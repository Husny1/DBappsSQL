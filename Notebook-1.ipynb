{
    "metadata": {
        "kernelspec": {
            "name": "SQL",
            "display_name": "SQL",
            "language": "sql"
        },
        "language_info": {
            "name": "sql",
            "version": ""
        }
    },
    "nbformat_minor": 2,
    "nbformat": 4,
    "cells": [
        {
            "cell_type": "code",
            "source": [
                "CREATE OR ALTER PROCEDURE PreviouslyVoted\r\n",
                "(@VoterIdentification AS INT(20),\r\n",
                "@EventSerialNumber AS INT(20),\r\n",
                "@DivisionName VARCHAR(150))\r\n",
                "AS\r\n",
                "DECLARE\r\n",
                "@EventSerialNumber INT(20),\r\n",
                "BEGIN TRY\r\n",
                "BEGIN IF (SELECT VoterID FROM IssuanceRecord WHERE VoterID = @VoterIdentification) IS NULL\r\n",
                "RAISERROR ('Incorrect VoterID, Try again', 10,0)\r\n",
                "END;\r\n",
                "BEGIN TRY\r\n",
                "BEGIN IF (SELECT ElectionSerialNo FROM IssuanceRecord WHERE ElectionSerialNo = @EventSerialNumber) IS NULL\r\n",
                "RAISERROR ('Incorrect SerialNo, Try again', 10,0)\r\n",
                "END;\r\n",
                "-- BEGIN TRY\r\n",
                "-- BEGIN IF (SELECT DivisionName FROM IssuanceRecord WHERE VoterID = @DivisionName) IS NULL\r\n",
                "-- RAISERROR ('Incorrect VoterID, Try again', 10,0)\r\n",
                "-- END;\r\n",
                "SELECT \r\n",
                "    CASE\r\n",
                "        WHEN EXISTS (\r\n",
                "            SELECT 1 \r\n",
                "            FROM IssuanceRecord \r\n",
                "            WHERE VoterID = @VoterIdentification\r\n",
                "            AND ElectionSerialNo = 220521\r\n",
                "        ) THEN 'TRUE'\r\n",
                "        ELSE 'FALSE'\r\n",
                "    END AS PreviouslyVoted;"
            ],
            "metadata": {
                "azdata_cell_guid": "a9655f39-0c9d-472d-968c-43d1c3ac2375",
                "language": "sql",
                "tags": []
            },
            "outputs": [],
            "execution_count": null
        },
        {
            "cell_type": "code",
            "source": [
                "CREATE OR ALTER PROCEDURE primaryVoteCount\r\n",
                "(@EventSerialNumber AS INT(20),\r\n",
                "@DivisionName VARCHAR(150))\r\n",
                "AS\r\n",
                "CREATE \r\n",
                "BEGIN TRY\r\n",
                "BEGIN IF (SELECT VoterID FROM IssuanceRecord WHERE VoterID = @VoterIdentification) IS NULL\r\n",
                "RAISERROR ('Incorrect VoterID, Try again', 10,0)\r\n",
                "END;\r\n",
                "BEGIN TRY\r\n",
                "BEGIN IF (SELECT ElectionSerialNo FROM IssuanceRecord WHERE ElectionSerialNo = @EventSerialNumber) IS NULL\r\n",
                "RAISERROR ('Incorrect SerialNo, Try again', 10,0)\r\n",
                "END;\r\n",
                "-- BEGIN TRY\r\n",
                "-- BEGIN IF (SELECT DivisionName FROM IssuanceRecord WHERE VoterID = @DivisionName) IS NULL\r\n",
                "-- RAISERROR ('Incorrect VoterID, Try again', 10,0)\r\n",
                "-- END;\r\n",
                "SELECT \r\n",
                "    CASE\r\n",
                "        WHEN EXISTS (\r\n",
                "            SELECT 1 \r\n",
                "            FROM IssuanceRecord \r\n",
                "            WHERE VoterID = @VoterIdentification\r\n",
                "            AND ElectionSerialNo = 220521\r\n",
                "        ) THEN 'TRUE'\r\n",
                "        ELSE 'FALSE'\r\n",
                "    END AS PreviouslyVoted;"
            ],
            "metadata": {
                "language": "sql",
                "azdata_cell_guid": "0fe9d19f-1a3e-4678-9149-7a30917eb0bc"
            },
            "outputs": [],
            "execution_count": null
        },
        {
            "cell_type": "code",
            "source": [
                "WITH primaryVoteCount AS\r\n",
                "(\r\n",
                "    SELECT BallotID, CandidateID, Preference\r\n",
                "    FROM BallotPreferences\r\n",
                "    WHERE Preference = '1'\r\n",
                ")\r\n",
                "SELECT CandidateID, COUNT(*) AS VoteCount\r\n",
                "FROM primaryVoteCount\r\n",
                "GROUP BY CandidateID\r\n",
                "ORDER BY CandidateID DESC;\r\n",
                ""
            ],
            "metadata": {
                "language": "sql",
                "azdata_cell_guid": "d59f9015-ee74-4d7a-8568-ec92732e5fea"
            },
            "outputs": [],
            "execution_count": null
        }
    ]
}